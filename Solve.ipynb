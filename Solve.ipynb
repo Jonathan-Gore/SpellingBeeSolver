{
 "cells": [
  {
   "cell_type": "code",
   "execution_count": 10,
   "metadata": {},
   "outputs": [],
   "source": [
    "def load_words():\n",
    "    with open('words_alpha.txt') as word_file:\n",
    "        valid_words = set(word_file.read().split())\n",
    "\n",
    "    return valid_words"
   ]
  },
  {
   "cell_type": "code",
   "execution_count": 11,
   "metadata": {},
   "outputs": [],
   "source": [
    "def is_valid_word(word, letters, central_letter):\n",
    "    return central_letter in word and all(char in letters for char in word)\n",
    "\n",
    "def find_solutions(letters, central_letter, word_list):\n",
    "    return [word for word in word_list if is_valid_word(word, letters, central_letter)]"
   ]
  },
  {
   "cell_type": "code",
   "execution_count": 13,
   "metadata": {},
   "outputs": [
    {
     "name": "stdout",
     "output_type": "stream",
     "text": [
      "['dipnoan', 'pandion', 'pandani', 'nad', 'drona', 'parodinia', 'indra', 'ain', 'nori', 'dana', 'pirana', 'diandrian', 'dindon', 'ariana', 'raindrop', 'indin', 'aani', 'pino', 'ordn', 'anion', 'ninon', 'anapanapa', 'doni', 'andorran', 'roddin', 'darn', 'n', 'pani', 'dani', 'inia', 'anandria', 'ana', 'radioiron', 'adonai', 'ona', 'anana', 'aion', 'pannonian', 'ainoi', 'ordain', 'dardan', 'rondo', 'orion', 'odin', 'dardani', 'iridian', 'prand', 'randon', 'don', 'adonin', 'naiad', 'indri', 'nonda', 'prn', 'rond', 'aridian', 'pardon', 'randir', 'radon', 'piarroan', 'nanoid', 'doon', 'no', 'papain', 'roon', 'aonian', 'rnd', 'iranian', 'inroad', 'pian', 'anoia', 'nippon', 'nidi', 'an', 'panoan', 'randori', 'prionid', 'diandria', 'panini', 'danaro', 'prionodon', 'adoniad', 'donar', 'idion', 'aniridia', 'arrondi', 'arrand', 'dorian', 'andia', 'nonriparian', 'adriana', 'popian', 'norn', 'nar', 'aaron', 'nodi', 'apiarian', 'anan', 'nan', 'apardon', 'nana', 'pandoor', 'danda', 'pronaoi', 'nardoo', 'dino', 'didonia', 'ropand', 'andirin', 'nada', 'np', 'oraon', 'nandi', 'non', 'nondo', 'arian', 'donna', 'ian', 'donia', 'andi', 'prin', 'pianino', 'indian', 'doina', 'din', 'airn', 'ran', 'adin', 'iran', 'andian', 'norard', 'diarian', 'ann', 'orpin', 'adorn', 'dand', 'nandin', 'darin', 'pdn', 'nipa', 'danaan', 'dion', 'iodin', 'rani', 'pandar', 'naid', 'noo', 'adonian', 'adon', 'arioian', 'nandina', 'anidian', 'riparian', 'raninian', 'anoa', 'anorn', 'orarian', 'naoi', 'adonia', 'dipnoid', 'pinard', 'nid', 'napa', 'indoin', 'padroni', 'poniard', 'apodan', 'annard', 'pandan', 'anda', 'roin', 'naa', 'danio', 'panion', 'ron', 'panorpian', 'dan', 'nanda', 'inradii', 'dian', 'pind', 'ind', 'paon', 'anon', 'ionian', 'dain', 'adrian', 'paroarion', 'doand', 'aronia', 'nip', 'dondia', 'poinado', 'nod', 'arni', 'arna', 'danian', 'panorpid', 'panionia', 'porion', 'prion', 'pondo', 'nonion', 'poppin', 'andiron', 'panna', 'pridian', 'rondino', 'ranarian', 'drain', 'donnard', 'indianan', 'rn', 'nonpar', 'iridin', 'nona', 'diodon', 'arion', 'aroon', 'annona', 'irani', 'porina', 'ono', 'rind', 'narr', 'pindari', 'didn', 'porno', 'ranaria', 'android', 'diana', 'naio', 'nd', 'inro', 'nonpaid', 'ropani', 'piano', 'paranoia', 'pandorina', 'nina', 'dodonian', 'and', 'pinon', 'adonidin', 'indii', 'napron', 'noop', 'rand', 'paranoid', 'panada', 'naira', 'donor', 'oppian', 'oni', 'apadana', 'aponia', 'ronin', 'inion', 'pion', 'in', 'pandrop', 'padrino', 'dorn', 'orna', 'rann', 'noir', 'anno', 'noddi', 'nor', 'roan', 'donn', 'dona', 'anopia', 'oppidan', 'onopordon', 'rana', 'indianian', 'adinida', 'panda', 'raanan', 'nadir', 'adorno', 'danai', 'andira', 'porn', 'pidan', 'radion', 'apiin', 'dinar', 'apina', 'arain', 'pippin', 'narra', 'apron', 'arn', 'ronion', 'noa', 'anodon', 'rappini', 'indoor', 'nard', 'dn', 'ranina', 'pron', 'proparian', 'parian', 'napoo', 'anni', 'ino', 'dioon', 'pappain', 'nappa', 'papion', 'andria', 'indiana', 'poind', 'dodona', 'dianoia', 'irian', 'padrona', 'pan', 'andor', 'ronni', 'ananda', 'indn', 'nidor', 'pandora', 'opaion', 'na', 'panorpa', 'andorra', 'poiana', 'ni', 'rain', 'dipnoi', 'norna', 'poon', 'noon', 'prana', 'onan', 'pin', 'pon', 'nain', 'danaid', 'pirn', 'piaroan', 'addn', 'ordinand', 'pinna', 'onion', 'ion', 'ordinar', 'randia', 'anonad', 'priodon', 'dirian', 'drinn', 'nr', 'nidana', 'adinidan', 'andriana', 'opinion', 'rippon', 'panionian', 'randan', 'adion', 'poinard', 'odinian', 'pand', 'iron', 'andron', 'india', 'pinda', 'ranid', 'nonaid', 'nap', 'indan', 'nair', 'airan', 'pain', 'on', 'padina', 'inn', 'pina', 'nora', 'radian', 'anna', 'apian', 'pond', 'noria', 'ioni', 'randn', 'nonair', 'rin', 'pinion', 'orarion', 'ani', 'didna', 'apinoid']\n"
     ]
    }
   ],
   "source": [
    "# Example usage\n",
    "word_list = load_words()\n",
    "letters = 'roadipn'  # Example letters (replace with actual puzzle letters)\n",
    "central_letter = 'n'  # Example central letter\n",
    "\n",
    "solutions = find_solutions(letters, central_letter, word_list)\n",
    "print(solutions)"
   ]
  },
  {
   "cell_type": "code",
   "execution_count": 20,
   "metadata": {},
   "outputs": [],
   "source": [
    "sorted_answers = sorted(solutions)"
   ]
  },
  {
   "cell_type": "code",
   "execution_count": 21,
   "metadata": {},
   "outputs": [
    {
     "name": "stdout",
     "output_type": "stream",
     "text": [
      "['aani', 'aaron', 'addn', 'adin', 'adinida', 'adinidan', 'adion', 'adon', 'adonai', 'adonia', 'adoniad', 'adonian', 'adonidin', 'adonin', 'adorn', 'adorno', 'adrian', 'adriana', 'ain', 'ainoi', 'aion', 'airan', 'airn', 'an', 'ana', 'anan', 'anana', 'ananda', 'anandria', 'anapanapa', 'and', 'anda', 'andi', 'andia', 'andian', 'andira', 'andirin', 'andiron', 'andor', 'andorra', 'andorran', 'andria', 'andriana', 'android', 'andron', 'ani', 'anidian', 'anion', 'aniridia', 'ann', 'anna', 'annard', 'anni', 'anno', 'annona', 'anoa', 'anodon', 'anoia', 'anon', 'anonad', 'anopia', 'anorn', 'aonian', 'apadana', 'apardon', 'apian', 'apiarian', 'apiin', 'apina', 'apinoid', 'apodan', 'aponia', 'apron', 'arain', 'arian', 'ariana', 'aridian', 'arioian', 'arion', 'arn', 'arna', 'arni', 'aronia', 'aroon', 'arrand', 'arrondi', 'dain', 'dan', 'dana', 'danaan', 'danai', 'danaid', 'danaro', 'dand', 'danda', 'dani', 'danian', 'danio', 'dardan', 'dardani', 'darin', 'darn', 'dian', 'diana', 'diandria', 'diandrian', 'dianoia', 'diarian', 'didn', 'didna', 'didonia', 'din', 'dinar', 'dindon', 'dino', 'diodon', 'dion', 'dioon', 'dipnoan', 'dipnoi', 'dipnoid', 'dirian', 'dn', 'doand', 'dodona', 'dodonian', 'doina', 'don', 'dona', 'donar', 'dondia', 'doni', 'donia', 'donn', 'donna', 'donnard', 'donor', 'doon', 'dorian', 'dorn', 'drain', 'drinn', 'drona', 'ian', 'idion', 'in', 'ind', 'indan', 'india', 'indian', 'indiana', 'indianan', 'indianian', 'indii', 'indin', 'indn', 'indoin', 'indoor', 'indra', 'indri', 'inia', 'inion', 'inn', 'ino', 'inradii', 'inro', 'inroad', 'iodin', 'ion', 'ioni', 'ionian', 'iran', 'irani', 'iranian', 'irian', 'iridian', 'iridin', 'iron', 'n', 'na', 'naa', 'nad', 'nada', 'nadir', 'naiad', 'naid', 'nain', 'naio', 'nair', 'naira', 'nan', 'nana', 'nanda', 'nandi', 'nandin', 'nandina', 'nanoid', 'naoi', 'nap', 'napa', 'napoo', 'nappa', 'napron', 'nar', 'nard', 'nardoo', 'narr', 'narra', 'nd', 'ni', 'nid', 'nidana', 'nidi', 'nidor', 'nina', 'ninon', 'nip', 'nipa', 'nippon', 'no', 'noa', 'nod', 'noddi', 'nodi', 'noir', 'non', 'nona', 'nonaid', 'nonair', 'nonda', 'nondo', 'nonion', 'nonpaid', 'nonpar', 'nonriparian', 'noo', 'noon', 'noop', 'nor', 'nora', 'norard', 'nori', 'noria', 'norn', 'norna', 'np', 'nr', 'odin', 'odinian', 'on', 'ona', 'onan', 'oni', 'onion', 'ono', 'onopordon', 'opaion', 'opinion', 'oppian', 'oppidan', 'oraon', 'orarian', 'orarion', 'ordain', 'ordinand', 'ordinar', 'ordn', 'orion', 'orna', 'orpin', 'padina', 'padrino', 'padrona', 'padroni', 'pain', 'pan', 'panada', 'pand', 'panda', 'pandan', 'pandani', 'pandar', 'pandion', 'pandoor', 'pandora', 'pandorina', 'pandrop', 'pani', 'panini', 'panion', 'panionia', 'panionian', 'panna', 'pannonian', 'panoan', 'panorpa', 'panorpian', 'panorpid', 'paon', 'papain', 'papion', 'pappain', 'paranoia', 'paranoid', 'pardon', 'parian', 'paroarion', 'parodinia', 'pdn', 'pian', 'pianino', 'piano', 'piaroan', 'piarroan', 'pidan', 'pin', 'pina', 'pinard', 'pind', 'pinda', 'pindari', 'pinion', 'pinna', 'pino', 'pinon', 'pion', 'pippin', 'pirana', 'pirn', 'poiana', 'poinado', 'poinard', 'poind', 'pon', 'pond', 'pondo', 'poniard', 'poon', 'popian', 'poppin', 'porina', 'porion', 'porn', 'porno', 'prana', 'prand', 'pridian', 'prin', 'priodon', 'prion', 'prionid', 'prionodon', 'prn', 'pron', 'pronaoi', 'proparian', 'raanan', 'radian', 'radioiron', 'radion', 'radon', 'rain', 'raindrop', 'ran', 'rana', 'ranaria', 'ranarian', 'rand', 'randan', 'randia', 'randir', 'randn', 'randon', 'randori', 'rani', 'ranid', 'ranina', 'raninian', 'rann', 'rappini', 'rin', 'rind', 'riparian', 'rippon', 'rn', 'rnd', 'roan', 'roddin', 'roin', 'ron', 'rond', 'rondino', 'rondo', 'ronin', 'ronion', 'ronni', 'roon', 'ropand', 'ropani']\n"
     ]
    }
   ],
   "source": [
    "print(sorted_answers)"
   ]
  },
  {
   "cell_type": "code",
   "execution_count": 24,
   "metadata": {},
   "outputs": [],
   "source": [
    "with open('spelling_bee_answers.txt', 'w') as f:\n",
    "    for answer in sorted_answers:\n",
    "        f.write(f\"{answer}\\n\")"
   ]
  }
 ],
 "metadata": {
  "kernelspec": {
   "display_name": "spellingbeesolver",
   "language": "python",
   "name": "python3"
  },
  "language_info": {
   "codemirror_mode": {
    "name": "ipython",
    "version": 3
   },
   "file_extension": ".py",
   "mimetype": "text/x-python",
   "name": "python",
   "nbconvert_exporter": "python",
   "pygments_lexer": "ipython3",
   "version": "3.12.1"
  }
 },
 "nbformat": 4,
 "nbformat_minor": 2
}
